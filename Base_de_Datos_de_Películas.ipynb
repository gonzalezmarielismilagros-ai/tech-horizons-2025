{
  "nbformat": 4,
  "nbformat_minor": 0,
  "metadata": {
    "colab": {
      "provenance": [],
      "authorship_tag": "ABX9TyPyX9DhjKNXUlxoOyjvgtt+",
      "include_colab_link": true
    },
    "kernelspec": {
      "name": "python3",
      "display_name": "Python 3"
    },
    "language_info": {
      "name": "python"
    }
  },
  "cells": [
    {
      "cell_type": "markdown",
      "metadata": {
        "id": "view-in-github",
        "colab_type": "text"
      },
      "source": [
        "<a href=\"https://colab.research.google.com/github/gonzalezmarielismilagros-ai/tech-horizons-2025/blob/main/Base_de_Datos_de_Pel%C3%ADculas.ipynb\" target=\"_parent\"><img src=\"https://colab.research.google.com/assets/colab-badge.svg\" alt=\"Open In Colab\"/></a>"
      ]
    },
    {
      "cell_type": "code",
      "source": [
        "pelicula_favorita={\n",
        "    \"Titulo\": \"Interestelar\",\n",
        "    \"Director\": \"Christopher Nolan\",\n",
        "    \"Año\": 2014,\n",
        "    \"Genero\": \"Ciencia Ficción/Aventura\",\n",
        "    \"Calificacion\": 10,\n",
        "    \"Actores_principales\": [\"Matthew McConaughey\",\"Anne Hathaway\",\"Jessica Chastain\"]\n",
        "    }\n",
        "\n",
        "\n",
        "print(\"\\n\"+\"=\"*40)\n",
        "print(f\"🎥 PELÍCULA: {pelicula_favorita['Titulo']}\")\n",
        "print(\"=\"*40)\n",
        "print(f\"Director: {pelicula_favorita['Director']}\")\n",
        "print(f\"Año: {pelicula_favorita['Año']}\")\n",
        "print(f\"Género: {pelicula_favorita['Genero']}\")\n",
        "print(f\"Puntuación: {pelicula_favorita['Calificacion']}/10\")\n",
        "print(f\"Elenco Principal: {', '.join(pelicula_favorita['Actores_principales'])}\")\n",
        "print(\"=\"*40)"
      ],
      "metadata": {
        "colab": {
          "base_uri": "https://localhost:8080/"
        },
        "id": "9sa_WnqD3u9l",
        "outputId": "71582a2c-4d1c-4104-d0d6-a8f6854a1b92"
      },
      "execution_count": 6,
      "outputs": [
        {
          "output_type": "stream",
          "name": "stdout",
          "text": [
            "\n",
            "========================================\n",
            "🎥 PELÍCULA: Interestelar\n",
            "========================================\n",
            "Director: Christopher Nolan\n",
            "Año: 2014\n",
            "Género: Ciencia Ficción/Aventura\n",
            "Puntuación: 10/10\n",
            "Elenco Principal: Matthew McConaughey, Anne Hathaway, Jessica Chastain\n",
            "========================================\n"
          ]
        }
      ]
    }
  ]
}